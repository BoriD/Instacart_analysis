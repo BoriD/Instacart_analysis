{
 "cells": [
  {
   "cell_type": "code",
   "execution_count": 1,
   "id": "02f74f1b",
   "metadata": {},
   "outputs": [],
   "source": [
    "# Import libraries\n",
    "import pandas as pd\n",
    "import numpy as np\n",
    "import os"
   ]
  },
  {
   "cell_type": "code",
   "execution_count": 2,
   "id": "7d07c430",
   "metadata": {},
   "outputs": [],
   "source": [
    "#Create project folder path\n",
    "path=r'C:\\Users\\Bori\\Documents\\Careerfoundry\\Achievement 4'"
   ]
  },
  {
   "cell_type": "code",
   "execution_count": 4,
   "id": "16243764",
   "metadata": {},
   "outputs": [],
   "source": [
    "df_prior = pd.read_csv(os.path.join(path, '02 Data', 'Original data', 'order_products__prior.csv'))"
   ]
  },
  {
   "cell_type": "code",
   "execution_count": 5,
   "id": "90e95a91",
   "metadata": {},
   "outputs": [
    {
     "data": {
      "text/plain": [
       "(32434489, 4)"
      ]
     },
     "execution_count": 5,
     "metadata": {},
     "output_type": "execute_result"
    }
   ],
   "source": [
    "df_prior.shape"
   ]
  },
  {
   "cell_type": "code",
   "execution_count": 6,
   "id": "b2c908ff",
   "metadata": {},
   "outputs": [],
   "source": [
    "df_prod = pd.read_csv(os.path.join(path, '02 Data', 'Original data', 'products.csv'))"
   ]
  },
  {
   "cell_type": "code",
   "execution_count": 7,
   "id": "a2b0f295",
   "metadata": {},
   "outputs": [
    {
     "data": {
      "text/plain": [
       "(49693, 5)"
      ]
     },
     "execution_count": 7,
     "metadata": {},
     "output_type": "execute_result"
    }
   ],
   "source": [
    "df_prod.shape"
   ]
  },
  {
   "cell_type": "code",
   "execution_count": 8,
   "id": "3d38fea8",
   "metadata": {},
   "outputs": [],
   "source": [
    "df_c = pd.read_csv(os.path.join(path, '02 Data', 'Original data', 'customers.csv'))"
   ]
  },
  {
   "cell_type": "code",
   "execution_count": 9,
   "id": "9a6a5ed9",
   "metadata": {},
   "outputs": [
    {
     "data": {
      "text/plain": [
       "(206209, 10)"
      ]
     },
     "execution_count": 9,
     "metadata": {},
     "output_type": "execute_result"
    }
   ],
   "source": [
    "df_c.shape"
   ]
  },
  {
   "cell_type": "code",
   "execution_count": 15,
   "id": "ee7d383a",
   "metadata": {},
   "outputs": [],
   "source": [
    "df_o_w = pd.read_csv(os.path.join(path, '02 Data', 'Prepared Data', 'orders_wrangled.csv'))"
   ]
  },
  {
   "cell_type": "code",
   "execution_count": 16,
   "id": "88733298",
   "metadata": {},
   "outputs": [
    {
     "data": {
      "text/plain": [
       "(3421083, 8)"
      ]
     },
     "execution_count": 16,
     "metadata": {},
     "output_type": "execute_result"
    }
   ],
   "source": [
    "df_o_w.shape"
   ]
  },
  {
   "cell_type": "code",
   "execution_count": 17,
   "id": "0abe8894",
   "metadata": {},
   "outputs": [],
   "source": [
    "df_o_p = pd.read_csv(os.path.join(path, '02 Data', 'Prepared Data', 'products_checked.csv'))"
   ]
  },
  {
   "cell_type": "code",
   "execution_count": 18,
   "id": "7f873bfd",
   "metadata": {},
   "outputs": [
    {
     "data": {
      "text/plain": [
       "(49672, 6)"
      ]
     },
     "execution_count": 18,
     "metadata": {},
     "output_type": "execute_result"
    }
   ],
   "source": [
    "df_o_p.shape"
   ]
  },
  {
   "cell_type": "code",
   "execution_count": 19,
   "id": "27694265",
   "metadata": {},
   "outputs": [],
   "source": [
    "df_o_p_m = pd.read_pickle(os.path.join(path, '02 Data', 'Prepared Data', 'orders_products_merged.pkl'))"
   ]
  },
  {
   "cell_type": "code",
   "execution_count": 20,
   "id": "0cfd245d",
   "metadata": {},
   "outputs": [
    {
     "data": {
      "text/plain": [
       "(32404859, 17)"
      ]
     },
     "execution_count": 20,
     "metadata": {},
     "output_type": "execute_result"
    }
   ],
   "source": [
    "df_o_p_m.shape\n"
   ]
  },
  {
   "cell_type": "code",
   "execution_count": 21,
   "id": "1fd3fdaa",
   "metadata": {},
   "outputs": [],
   "source": [
    "df_o_p_c = pd.read_pickle(os.path.join(path, '02 Data', 'Prepared Data', 'orders_products_combined.pkl'))"
   ]
  },
  {
   "cell_type": "code",
   "execution_count": 22,
   "id": "47a2e652",
   "metadata": {},
   "outputs": [
    {
     "data": {
      "text/plain": [
       "(32434489, 12)"
      ]
     },
     "execution_count": 22,
     "metadata": {},
     "output_type": "execute_result"
    }
   ],
   "source": [
    "df_o_p_c.shape"
   ]
  },
  {
   "cell_type": "code",
   "execution_count": 23,
   "id": "63000074",
   "metadata": {},
   "outputs": [],
   "source": [
    "df_c = pd.read_pickle(os.path.join(path, '02 Data', 'Prepared Data', 'combined dataset.pkl'))"
   ]
  },
  {
   "cell_type": "code",
   "execution_count": 24,
   "id": "bb18f729",
   "metadata": {},
   "outputs": [
    {
     "data": {
      "text/plain": [
       "(32404859, 32)"
      ]
     },
     "execution_count": 24,
     "metadata": {},
     "output_type": "execute_result"
    }
   ],
   "source": [
    "df_c.shape"
   ]
  },
  {
   "cell_type": "code",
   "execution_count": null,
   "id": "bf1840fd",
   "metadata": {},
   "outputs": [],
   "source": []
  }
 ],
 "metadata": {
  "kernelspec": {
   "display_name": "Python 3 (ipykernel)",
   "language": "python",
   "name": "python3"
  },
  "language_info": {
   "codemirror_mode": {
    "name": "ipython",
    "version": 3
   },
   "file_extension": ".py",
   "mimetype": "text/x-python",
   "name": "python",
   "nbconvert_exporter": "python",
   "pygments_lexer": "ipython3",
   "version": "3.10.9"
  }
 },
 "nbformat": 4,
 "nbformat_minor": 5
}
